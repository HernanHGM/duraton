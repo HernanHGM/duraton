{
 "cells": [
  {
   "cell_type": "markdown",
   "id": "72fc22ed",
   "metadata": {},
   "source": [
    "# Insert general functions"
   ]
  },
  {
   "cell_type": "code",
   "execution_count": 1,
   "id": "f01a5640",
   "metadata": {},
   "outputs": [],
   "source": [
    "import pandas as pd\n",
    "import numpy as np"
   ]
  },
  {
   "cell_type": "markdown",
   "id": "b29639e1",
   "metadata": {},
   "source": [
    "# Create our function"
   ]
  },
  {
   "cell_type": "code",
   "execution_count": 2,
   "id": "f846ffb4",
   "metadata": {},
   "outputs": [],
   "source": [
    "def classifier_reductor(X, Y, model, model_reductor, n_splits=10):\n",
    "    import time\n",
    "    from sklearn.model_selection import StratifiedKFold\n",
    "    from sklearn.metrics import accuracy_score, cohen_kappa_score, confusion_matrix\n",
    "    \n",
    "    start = time.process_time()\n",
    "    \n",
    "    kf = StratifiedKFold(n_splits=n_splits,shuffle=True,random_state=42)\n",
    "    kappa = []\n",
    "    accuracy = []\n",
    "    cm = []\n",
    "    for train_index, test_index in kf.split(X,Y):\n",
    "        X_train, X_test = X[train_index], X[test_index]\n",
    "        Y_train, Y_test = Y[train_index], Y[test_index]\n",
    "        \n",
    "        model_reductor.fit(X_train, Y_train)\n",
    "        X_train_reduced = model_reductor.transform(X_train)\n",
    "        X_test_reduced = model_reductor.transform(X_test)\n",
    "        \n",
    "        model.fit(X_train_reduced, Y_train)\n",
    "        Y_pred = model.predict(X_test_reduced)\n",
    "        Y_pred_round = np.round(Y_pred)\n",
    "        kappa.append( cohen_kappa_score(Y_test,Y_pred_round))\n",
    "        accuracy.append(accuracy_score(Y_test,Y_pred_round))\n",
    "        cm.append(confusion_matrix(Y_test,Y_pred_round))\n",
    "    cm = np.array(cm)\n",
    "    print('Tiempo transcurrido = ', time.process_time() - start, ' segundos')\n",
    "    print('kappa = ', np.mean(kappa).round(2), u\"\\u00B1\", np.std(kappa).round(2))\n",
    "    print('accuracy = ', np.mean(accuracy).round(2), u\"\\u00B1\", np.std(accuracy).round(2))\n",
    "    print('correlation_matrix = \\n', np.mean(cm, axis=0).round(2),\"\\n\", u\"\\u00B1 \\n\", np.std(cm, axis=0).round(2))\n"
   ]
  },
  {
   "cell_type": "markdown",
   "id": "3e6bd280",
   "metadata": {},
   "source": [
    "# Import and normalize data"
   ]
  },
  {
   "cell_type": "code",
   "execution_count": 3,
   "id": "1c250898",
   "metadata": {},
   "outputs": [],
   "source": [
    "\n",
    "data = pd.read_csv('C:\\\\M2CML22\\\\Practicas\\\\Practica3_4\\\\Files\\\\product_quality.csv', sep = ';')\n",
    "\n",
    "from sklearn.preprocessing import StandardScaler\n",
    "X, Y = data.drop(columns='quality').values,  data['quality'].values\n",
    "X_norm = StandardScaler().fit_transform(X)\n",
    "data_norm = pd.DataFrame(StandardScaler().fit_transform(data), columns = data.columns)\n",
    "data_norm.quality = Y\n"
   ]
  },
  {
   "cell_type": "markdown",
   "id": "02be2bb3",
   "metadata": {},
   "source": [
    "# Import ML functions"
   ]
  },
  {
   "cell_type": "code",
   "execution_count": 4,
   "id": "bd7e5908",
   "metadata": {},
   "outputs": [],
   "source": [
    "from sklearn.feature_selection import SelectFromModel, SequentialFeatureSelector\n",
    "from sklearn.ensemble import RandomForestRegressor, GradientBoostingRegressor, RandomForestClassifier\n",
    "\n",
    "from sklearn.decomposition import PCA\n",
    "from sklearn.svm import SVC\n",
    "from sklearn.linear_model import LogisticRegression, LinearRegression\n",
    "import sklearn.neighbors as neig\n",
    "import sklearn.discriminant_analysis as da\n",
    "from xgboost import XGBClassifier, XGBRegressor\n",
    "\n"
   ]
  },
  {
   "cell_type": "markdown",
   "id": "cf0646ab",
   "metadata": {},
   "source": [
    "# Declare methods to use"
   ]
  },
  {
   "cell_type": "code",
   "execution_count": 5,
   "id": "593f90cf",
   "metadata": {},
   "outputs": [],
   "source": [
    "# =============================================================================\n",
    "# Feature Reduction\n",
    "# =============================================================================\n",
    "pca = PCA(n_components=5)\n",
    "lda = da.LinearDiscriminantAnalysis()\n",
    "\n",
    "# =============================================================================\n",
    "# Classifiers\n",
    "# =============================================================================\n",
    "RF_C = RandomForestClassifier(n_estimators = 100, random_state=0)\n",
    "LogReg = LogisticRegression()\n",
    "SVC = SVC()\n",
    "LDA = da.LinearDiscriminantAnalysis()\n",
    "KNN_C = neig.KNeighborsClassifier(n_neighbors=1)\n",
    "XGB_C = XGBClassifier()\n",
    "\n",
    "# =============================================================================\n",
    "# Classifiers\n",
    "# =============================================================================\n",
    "GBR = GradientBoostingRegressor(n_estimators = 100, random_state=0)\n",
    "LinReg = LinearRegression()\n",
    "KNN_R = neig.KNeighborsRegressor(n_neighbors=1)\n",
    "XGB_R = XGBRegressor()\n",
    "RF_R = RandomForestRegressor(n_estimators = 100, random_state=0)\n",
    "\n",
    "# =============================================================================\n",
    "# Wrapped methods\n",
    "# =============================================================================\n",
    "sel_model = SelectFromModel(RF_C)\n",
    "sfs = SequentialFeatureSelector(LogReg, n_features_to_select=4)\n"
   ]
  },
  {
   "cell_type": "markdown",
   "id": "ee7c8c5f",
   "metadata": {},
   "source": [
    "# Run function"
   ]
  },
  {
   "cell_type": "code",
   "execution_count": 6,
   "id": "6e71ef96",
   "metadata": {},
   "outputs": [
    {
     "name": "stdout",
     "output_type": "stream",
     "text": [
      "Tiempo transcurrido =  3.40625  segundos\n",
      "kappa =  0.34 ± 0.05\n",
      "accuracy =  0.6 ± 0.03\n",
      "correlation_matrix = \n",
      " [[ 0.   0.1  0.7  0.2  0.   0. ]\n",
      " [ 0.   0.2  3.5  1.5  0.1  0. ]\n",
      " [ 0.   0.5 49.7 17.5  0.4  0. ]\n",
      " [ 0.   0.2 20.2 39.2  4.2  0. ]\n",
      " [ 0.   0.   0.7 12.5  6.7  0. ]\n",
      " [ 0.   0.   0.   0.9  0.9  0. ]] \n",
      " ± \n",
      " [[0.   0.3  0.46 0.4  0.   0.  ]\n",
      " [0.   0.4  1.2  1.02 0.3  0.  ]\n",
      " [0.   0.67 2.76 2.62 0.66 0.  ]\n",
      " [0.   0.4  4.94 4.51 2.27 0.  ]\n",
      " [0.   0.   1.19 1.36 1.   0.  ]\n",
      " [0.   0.   0.   0.83 0.94 0.  ]]\n"
     ]
    }
   ],
   "source": [
    "classifier_reductor(X_norm, Y, GBR, sel_model, n_splits=10)"
   ]
  },
  {
   "cell_type": "code",
   "execution_count": null,
   "id": "01deb1b0",
   "metadata": {},
   "outputs": [],
   "source": []
  }
 ],
 "metadata": {
  "kernelspec": {
   "display_name": "Python 3 (ipykernel)",
   "language": "python",
   "name": "python3"
  },
  "language_info": {
   "codemirror_mode": {
    "name": "ipython",
    "version": 3
   },
   "file_extension": ".py",
   "mimetype": "text/x-python",
   "name": "python",
   "nbconvert_exporter": "python",
   "pygments_lexer": "ipython3",
   "version": "3.9.12"
  }
 },
 "nbformat": 4,
 "nbformat_minor": 5
}
